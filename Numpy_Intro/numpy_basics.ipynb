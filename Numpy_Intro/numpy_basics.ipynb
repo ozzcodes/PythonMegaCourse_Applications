{
 "cells": [
  {
   "cell_type": "markdown",
   "source": [
    "### Basic Numpy Functions\n"
   ],
   "metadata": {
    "collapsed": false,
    "pycharm": {
     "name": "#%% md\n"
    }
   }
  },
  {
   "cell_type": "code",
   "execution_count": 16,
   "outputs": [],
   "source": [
    "import numpy as np"
   ],
   "metadata": {
    "collapsed": false,
    "pycharm": {
     "name": "#%%\n",
     "is_executing": false
    }
   }
  },
  {
   "cell_type": "code",
   "execution_count": 17,
   "outputs": [
    {
     "data": {
      "text/plain": "array([[[ 0,  1,  2],\n        [ 3,  4,  5],\n        [ 6,  7,  8]],\n\n       [[ 9, 10, 11],\n        [12, 13, 14],\n        [15, 16, 17]],\n\n       [[18, 19, 20],\n        [21, 22, 23],\n        [24, 25, 26]]])"
     },
     "metadata": {},
     "output_type": "execute_result",
     "execution_count": 17
    }
   ],
   "source": [
    "type(([[123,12,123,12,33], [],[]]))\n",
    "n = np.arange(27)\n",
    "n.reshape(3, 3, 3)"
   ],
   "metadata": {
    "collapsed": false,
    "pycharm": {
     "name": "#%%\n",
     "is_executing": false
    }
   }
  },
  {
   "cell_type": "code",
   "execution_count": 18,
   "outputs": [
    {
     "data": {
      "text/plain": "numpy.ndarray"
     },
     "metadata": {},
     "output_type": "execute_result",
     "execution_count": 18
    }
   ],
   "source": [
    "m = np.asarray([[123,12,123,12,33], [],[]])\n",
    "type(m)\n"
   ],
   "metadata": {
    "collapsed": false,
    "pycharm": {
     "name": "#%%\n",
     "is_executing": false
    }
   }
  },
  {
   "cell_type": "markdown",
   "source": [
    "#### Create Numpy Arrays from Images/ Vice-versa"
   ],
   "metadata": {
    "collapsed": false,
    "pycharm": {
     "name": "#%% md\n"
    }
   }
  },
  {
   "cell_type": "code",
   "execution_count": 19,
   "outputs": [
    {
     "data": {
      "text/plain": "array([[255, 255, 255, ..., 255, 255, 255],\n       [255, 157, 157, ..., 156, 255, 255],\n       [255, 157, 157, ..., 156, 255, 255],\n       ...,\n       [255, 195, 195, ..., 218, 255, 255],\n       [255, 195, 195, ..., 218, 255, 255],\n       [255, 255, 255, ..., 255, 255, 255]], dtype=uint8)"
     },
     "metadata": {},
     "output_type": "execute_result",
     "execution_count": 19
    }
   ],
   "source": [
    "import cv2\n",
    "\n",
    "# noinspection PyUnresolvedReferences\n",
    "img = cv2.imread('resources/small_gray_pixels.png', 0)\n",
    "img"
   ],
   "metadata": {
    "collapsed": false,
    "pycharm": {
     "name": "#%%\n",
     "is_executing": false
    }
   }
  },
  {
   "cell_type": "code",
   "execution_count": 20,
   "outputs": [
    {
     "data": {
      "text/plain": "True"
     },
     "metadata": {},
     "output_type": "execute_result",
     "execution_count": 20
    }
   ],
   "source": [
    "# noinspection PyUnresolvedReferences\n",
    "color_img = cv2.imread('resources/color_pixels.png', 2)\n",
    "# noinspection PyUnresolvedReferences\n",
    "cv2.imwrite('resources/new_color_image.png', color_img)"
   ],
   "metadata": {
    "collapsed": false,
    "pycharm": {
     "name": "#%%\n",
     "is_executing": false
    }
   }
  },
  {
   "cell_type": "code",
   "execution_count": 21,
   "outputs": [
    {
     "data": {
      "text/plain": "array([[255, 255, 255, 255, 255, 255, 255, 255, 255, 255, 255, 255, 255,\n        255, 255, 255, 255, 255, 255, 255, 255, 255, 255, 255, 255, 255,\n        255, 255, 255, 255, 255, 255, 255, 255, 255, 255, 255, 255, 255,\n        255, 255, 255, 255, 255, 255, 255, 255, 255, 255, 255, 255, 255,\n        255, 255, 255, 255, 255, 255, 255, 255, 255, 255, 255, 255, 255,\n        255, 255, 255, 255, 255, 255, 255, 255, 255, 255, 255, 255, 255,\n        255, 255, 255, 255, 255, 255, 255, 255, 255, 255, 255, 255, 255,\n        255, 255, 255, 255, 255, 255, 255, 255, 255, 255, 255, 255, 255,\n        255, 255, 255, 255, 255, 255, 255, 255, 255, 255, 255, 255, 255,\n        255, 255, 255, 255, 255, 255, 255, 255, 255, 255, 255, 255, 255,\n        255, 255, 255, 255, 255, 255, 255, 255, 255, 255, 255, 255, 255,\n        255, 255, 255, 255, 255, 255, 255, 255, 255, 255, 255, 255, 255,\n        255, 255, 255, 255, 255, 255, 255, 255, 255, 255, 255, 255, 255,\n        255, 255, 255, 255, 255, 255, 255, 255, 255, 255, 255, 255, 255,\n        255, 255, 255, 255, 255, 255, 255, 255, 255, 255, 255, 255, 255,\n        255, 255, 255, 255, 255, 255, 255, 255, 255, 255, 255, 255, 255,\n        255, 255, 255, 255, 255, 255, 255, 255, 255, 255, 255],\n       [255, 157, 157, 157, 157, 157, 157, 157, 157, 157, 157, 157, 157,\n        157, 157, 157, 157, 157, 157, 153, 153, 153, 153, 153, 153, 153,\n        153, 153, 153, 153, 153, 153, 153, 153, 153, 153, 153, 174, 174,\n        174, 174, 174, 174, 174, 174, 174, 174, 174, 174, 174, 174, 174,\n        174, 174, 174, 168, 168, 168, 168, 168, 168, 168, 168, 168, 168,\n        168, 168, 168, 168, 168, 168, 168, 168, 150, 150, 150, 150, 150,\n        150, 150, 150, 150, 150, 150, 150, 150, 150, 150, 150, 150, 150,\n        152, 152, 152, 152, 152, 152, 152, 152, 152, 152, 152, 152, 152,\n        152, 152, 152, 152, 152, 129, 129, 129, 129, 129, 129, 129, 129,\n        129, 129, 129, 129, 129, 129, 129, 129, 129, 129, 151, 151, 151,\n        151, 151, 151, 151, 151, 151, 151, 151, 151, 151, 151, 151, 151,\n        151, 151, 172, 172, 172, 172, 172, 172, 172, 172, 172, 172, 172,\n        172, 172, 172, 172, 172, 172, 172, 161, 161, 161, 161, 161, 161,\n        161, 161, 161, 161, 161, 161, 161, 161, 161, 161, 161, 161, 155,\n        155, 155, 155, 155, 155, 155, 155, 155, 155, 155, 155, 155, 155,\n        155, 155, 155, 155, 156, 156, 156, 156, 156, 156, 156, 156, 156,\n        156, 156, 156, 156, 156, 156, 156, 156, 156, 255, 255]],\n      dtype=uint8)"
     },
     "metadata": {},
     "output_type": "execute_result",
     "execution_count": 21
    }
   ],
   "source": [
    "a=[1, 2, 3]\n",
    "img[0:2]\n"
   ],
   "metadata": {
    "collapsed": false,
    "pycharm": {
     "name": "#%%\n",
     "is_executing": false
    }
   }
  },
  {
   "cell_type": "code",
   "execution_count": 22,
   "outputs": [
    {
     "data": {
      "text/plain": "157"
     },
     "metadata": {},
     "output_type": "execute_result",
     "execution_count": 22
    }
   ],
   "source": [
    "img[2,4]"
   ],
   "metadata": {
    "collapsed": false,
    "pycharm": {
     "name": "#%%\n",
     "is_executing": false
    }
   }
  },
  {
   "cell_type": "code",
   "execution_count": 27,
   "outputs": [],
   "source": [
    "for i in img.T:\n",
    "    pass # print(i)"
   ],
   "metadata": {
    "collapsed": false,
    "pycharm": {
     "name": "#%%\n",
     "is_executing": false
    }
   }
  },
  {
   "cell_type": "code",
   "execution_count": 28,
   "outputs": [],
   "source": [
    "for i in color_img.flat:\n",
    "    pass # print(i)"
   ],
   "metadata": {
    "collapsed": false,
    "pycharm": {
     "name": "#%%\n",
     "is_executing": false
    }
   }
  },
  {
   "cell_type": "markdown",
   "source": [
    "### Stacking and Slicing "
   ],
   "metadata": {
    "collapsed": false
   }
  },
  {
   "cell_type": "code",
   "execution_count": 31,
   "outputs": [
    {
     "data": {
      "text/plain": "array([[255, 255, 255, ..., 255, 255, 255],\n       [255, 157, 157, ..., 156, 255, 255],\n       [255, 157, 157, ..., 156, 255, 255],\n       ...,\n       [255, 195, 195, ..., 218, 255, 255],\n       [255, 195, 195, ..., 218, 255, 255],\n       [255, 255, 255, ..., 255, 255, 255]], dtype=uint8)"
     },
     "metadata": {},
     "output_type": "execute_result",
     "execution_count": 31
    }
   ],
   "source": [
    "imgs = np.hstack((img, img))\n",
    "imgs"
   ],
   "metadata": {
    "collapsed": false,
    "pycharm": {
     "name": "#%%\n",
     "is_executing": false
    }
   }
  },
  {
   "cell_type": "code",
   "execution_count": 32,
   "outputs": [
    {
     "name": "stdout",
     "text": [
      "[[255 255 255 ... 255 255 255]\n [255 157 157 ... 156 255 255]\n [255 157 157 ... 156 255 255]\n ...\n [255 195 195 ... 218 255 255]\n [255 195 195 ... 218 255 255]\n [255 255 255 ... 255 255 255]]\n"
     ],
     "output_type": "stream"
    }
   ],
   "source": [
    "print(imgs)"
   ],
   "metadata": {
    "collapsed": false,
    "pycharm": {
     "name": "#%%\n",
     "is_executing": false
    }
   }
  },
  {
   "cell_type": "code",
   "execution_count": 40,
   "outputs": [
    {
     "data": {
      "text/plain": "[array([[255, 255, 255, ..., 255, 255, 255],\n        [255, 157, 157, ..., 156, 255, 255],\n        [255, 157, 157, ..., 156, 255, 255],\n        ...,\n        [255, 195, 195, ..., 218, 255, 255],\n        [255, 195, 195, ..., 218, 255, 255],\n        [255, 255, 255, ..., 255, 255, 255]], dtype=uint8)]"
     },
     "metadata": {},
     "output_type": "execute_result",
     "execution_count": 40
    }
   ],
   "source": [
    "lst = np.hsplit(imgs, 1)\n",
    "lst"
   ],
   "metadata": {
    "collapsed": false,
    "pycharm": {
     "name": "#%%\n",
     "is_executing": false
    }
   }
  },
  {
   "cell_type": "code",
   "execution_count": 41,
   "outputs": [
    {
     "data": {
      "text/plain": "array([[255, 255, 255, ..., 255, 255, 255],\n       [255, 157, 157, ..., 156, 255, 255],\n       [255, 157, 157, ..., 156, 255, 255],\n       ...,\n       [255, 195, 195, ..., 218, 255, 255],\n       [255, 195, 195, ..., 218, 255, 255],\n       [255, 255, 255, ..., 255, 255, 255]], dtype=uint8)"
     },
     "metadata": {},
     "output_type": "execute_result",
     "execution_count": 41
    }
   ],
   "source": [
    "lst[0]"
   ],
   "metadata": {
    "collapsed": false,
    "pycharm": {
     "name": "#%%\n",
     "is_executing": false
    }
   }
  },
  {
   "cell_type": "code",
   "execution_count": null,
   "outputs": [],
   "source": [
    "\n"
   ],
   "metadata": {
    "collapsed": false,
    "pycharm": {
     "name": "#%%\n"
    }
   }
  }
 ],
 "metadata": {
  "kernelspec": {
   "display_name": "Python 3",
   "language": "python",
   "name": "python3"
  },
  "language_info": {
   "codemirror_mode": {
    "name": "ipython",
    "version": 2
   },
   "file_extension": ".py",
   "mimetype": "text/x-python",
   "name": "python",
   "nbconvert_exporter": "python",
   "pygments_lexer": "ipython2",
   "version": "2.7.6"
  },
  "pycharm": {
   "stem_cell": {
    "cell_type": "raw",
    "source": [],
    "metadata": {
     "collapsed": false
    }
   }
  }
 },
 "nbformat": 4,
 "nbformat_minor": 0
}